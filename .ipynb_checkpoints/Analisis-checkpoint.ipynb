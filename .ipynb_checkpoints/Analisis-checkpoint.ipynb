{
 "cells": [
  {
   "cell_type": "markdown",
   "id": "486ae937",
   "metadata": {},
   "source": [
    "# Proyecto integrador de Análisis de Datos\n",
    "\n",
    "## Delitos en la Ciudad de Buenos Aires\n",
    "\n",
    "#### Objetivo:\n",
    "Analizar la problemática del delito en CABA con diversas herramientas utilizadas en el campo del Análisis de Datos."
   ]
  },
  {
   "cell_type": "markdown",
   "id": "44475dea-c665-4046-b79f-4a4c4e528176",
   "metadata": {},
   "source": [
    "### 1. Módulos necesarios"
   ]
  },
  {
   "cell_type": "code",
   "execution_count": 1,
   "id": "ad2ea0de",
   "metadata": {
    "tags": []
   },
   "outputs": [],
   "source": [
    "import numpy as np\n",
    "import pandas as pd\n",
    "import matplotlib.pyplot as plt"
   ]
  },
  {
   "cell_type": "markdown",
   "id": "a449608e-dc24-45a2-8beb-d5efcadfd585",
   "metadata": {},
   "source": [
    "### 2. Análisis\n",
    "\n",
    "Para este trabajo se ha procedido a utilizar el dataset `delitos2019.csv`, que contiene una lista de todos los delitos cometidos en la Ciudad Autónoma de Buenos Aires a lo largo del año 2019."
   ]
  },
  {
   "cell_type": "markdown",
   "id": "0a5541d4-e5f7-4c1d-9994-726169b0897c",
   "metadata": {},
   "source": [
    "#### 2.1 Visualización del dataset\n",
    "\n",
    "Comienzo por importar el dataset y visualizar la estructura del mismo:"
   ]
  },
  {
   "cell_type": "code",
   "execution_count": 2,
   "id": "e48635dd",
   "metadata": {
    "tags": []
   },
   "outputs": [
    {
     "data": {
      "text/html": [
       "<div>\n",
       "<style scoped>\n",
       "    .dataframe tbody tr th:only-of-type {\n",
       "        vertical-align: middle;\n",
       "    }\n",
       "\n",
       "    .dataframe tbody tr th {\n",
       "        vertical-align: top;\n",
       "    }\n",
       "\n",
       "    .dataframe thead th {\n",
       "        text-align: right;\n",
       "    }\n",
       "</style>\n",
       "<table border=\"1\" class=\"dataframe\">\n",
       "  <thead>\n",
       "    <tr style=\"text-align: right;\">\n",
       "      <th></th>\n",
       "      <th>id</th>\n",
       "      <th>fecha</th>\n",
       "      <th>franja_horaria</th>\n",
       "      <th>tipo_delito</th>\n",
       "      <th>subtipo_delito</th>\n",
       "      <th>cantidad_registrada</th>\n",
       "      <th>comuna</th>\n",
       "      <th>barrio</th>\n",
       "      <th>lat</th>\n",
       "      <th>long</th>\n",
       "    </tr>\n",
       "  </thead>\n",
       "  <tbody>\n",
       "    <tr>\n",
       "      <th>0</th>\n",
       "      <td>374556</td>\n",
       "      <td>2019-01-01</td>\n",
       "      <td>12</td>\n",
       "      <td>Lesiones</td>\n",
       "      <td>Siniestro Vial</td>\n",
       "      <td>1.0</td>\n",
       "      <td>4.0</td>\n",
       "      <td>Nueva Pompeya</td>\n",
       "      <td>-34.648387</td>\n",
       "      <td>-58.404748</td>\n",
       "    </tr>\n",
       "    <tr>\n",
       "      <th>1</th>\n",
       "      <td>426152</td>\n",
       "      <td>2019-01-01</td>\n",
       "      <td>6</td>\n",
       "      <td>Robo (con violencia)</td>\n",
       "      <td>NaN</td>\n",
       "      <td>1.0</td>\n",
       "      <td>9.0</td>\n",
       "      <td>Liniers</td>\n",
       "      <td>-34.649827</td>\n",
       "      <td>-58.513859</td>\n",
       "    </tr>\n",
       "    <tr>\n",
       "      <th>2</th>\n",
       "      <td>371604</td>\n",
       "      <td>2019-01-01</td>\n",
       "      <td>8</td>\n",
       "      <td>Lesiones</td>\n",
       "      <td>Siniestro Vial</td>\n",
       "      <td>1.0</td>\n",
       "      <td>15.0</td>\n",
       "      <td>Chacarita</td>\n",
       "      <td>-34.588108</td>\n",
       "      <td>-58.439392</td>\n",
       "    </tr>\n",
       "    <tr>\n",
       "      <th>3</th>\n",
       "      <td>425359</td>\n",
       "      <td>2019-01-01</td>\n",
       "      <td>16</td>\n",
       "      <td>Hurto (sin violencia)</td>\n",
       "      <td>Hurto Automotor</td>\n",
       "      <td>1.0</td>\n",
       "      <td>10.0</td>\n",
       "      <td>Floresta</td>\n",
       "      <td>-34.631877</td>\n",
       "      <td>-58.483975</td>\n",
       "    </tr>\n",
       "    <tr>\n",
       "      <th>4</th>\n",
       "      <td>437571</td>\n",
       "      <td>2019-01-01</td>\n",
       "      <td>2</td>\n",
       "      <td>Robo (con violencia)</td>\n",
       "      <td>Robo Automotor</td>\n",
       "      <td>1.0</td>\n",
       "      <td>4.0</td>\n",
       "      <td>Parque Patricios</td>\n",
       "      <td>-34.633161</td>\n",
       "      <td>-58.397123</td>\n",
       "    </tr>\n",
       "    <tr>\n",
       "      <th>...</th>\n",
       "      <td>...</td>\n",
       "      <td>...</td>\n",
       "      <td>...</td>\n",
       "      <td>...</td>\n",
       "      <td>...</td>\n",
       "      <td>...</td>\n",
       "      <td>...</td>\n",
       "      <td>...</td>\n",
       "      <td>...</td>\n",
       "      <td>...</td>\n",
       "    </tr>\n",
       "    <tr>\n",
       "      <th>117656</th>\n",
       "      <td>486770</td>\n",
       "      <td>2019-12-31</td>\n",
       "      <td>18</td>\n",
       "      <td>Robo (con violencia)</td>\n",
       "      <td>Robo Automotor</td>\n",
       "      <td>1.0</td>\n",
       "      <td>8.0</td>\n",
       "      <td>Villa Riachuelo</td>\n",
       "      <td>-34.692347</td>\n",
       "      <td>-58.472299</td>\n",
       "    </tr>\n",
       "    <tr>\n",
       "      <th>117657</th>\n",
       "      <td>486678</td>\n",
       "      <td>2019-12-31</td>\n",
       "      <td>4</td>\n",
       "      <td>Robo (con violencia)</td>\n",
       "      <td>Robo Automotor</td>\n",
       "      <td>1.0</td>\n",
       "      <td>5.0</td>\n",
       "      <td>Boedo</td>\n",
       "      <td>-34.626424</td>\n",
       "      <td>-58.422846</td>\n",
       "    </tr>\n",
       "    <tr>\n",
       "      <th>117658</th>\n",
       "      <td>486668</td>\n",
       "      <td>2019-12-31</td>\n",
       "      <td>1</td>\n",
       "      <td>Robo (con violencia)</td>\n",
       "      <td>Robo Automotor</td>\n",
       "      <td>1.0</td>\n",
       "      <td>1.0</td>\n",
       "      <td>Monserrat</td>\n",
       "      <td>-34.615892</td>\n",
       "      <td>-58.370573</td>\n",
       "    </tr>\n",
       "    <tr>\n",
       "      <th>117659</th>\n",
       "      <td>486750</td>\n",
       "      <td>2019-12-31</td>\n",
       "      <td>14</td>\n",
       "      <td>Robo (con violencia)</td>\n",
       "      <td>Robo Automotor</td>\n",
       "      <td>1.0</td>\n",
       "      <td>15.0</td>\n",
       "      <td>Villa Crespo</td>\n",
       "      <td>-34.602577</td>\n",
       "      <td>-58.433145</td>\n",
       "    </tr>\n",
       "    <tr>\n",
       "      <th>117660</th>\n",
       "      <td>486683</td>\n",
       "      <td>2019-12-31</td>\n",
       "      <td>7</td>\n",
       "      <td>Robo (con violencia)</td>\n",
       "      <td>Robo Automotor</td>\n",
       "      <td>1.0</td>\n",
       "      <td>8.0</td>\n",
       "      <td>Villa Lugano</td>\n",
       "      <td>-34.674789</td>\n",
       "      <td>-58.466394</td>\n",
       "    </tr>\n",
       "  </tbody>\n",
       "</table>\n",
       "<p>117661 rows × 10 columns</p>\n",
       "</div>"
      ],
      "text/plain": [
       "            id       fecha franja_horaria            tipo_delito  \\\n",
       "0       374556  2019-01-01             12               Lesiones   \n",
       "1       426152  2019-01-01              6   Robo (con violencia)   \n",
       "2       371604  2019-01-01              8               Lesiones   \n",
       "3       425359  2019-01-01             16  Hurto (sin violencia)   \n",
       "4       437571  2019-01-01              2   Robo (con violencia)   \n",
       "...        ...         ...            ...                    ...   \n",
       "117656  486770  2019-12-31             18   Robo (con violencia)   \n",
       "117657  486678  2019-12-31              4   Robo (con violencia)   \n",
       "117658  486668  2019-12-31              1   Robo (con violencia)   \n",
       "117659  486750  2019-12-31             14   Robo (con violencia)   \n",
       "117660  486683  2019-12-31              7   Robo (con violencia)   \n",
       "\n",
       "         subtipo_delito  cantidad_registrada  comuna            barrio  \\\n",
       "0        Siniestro Vial                  1.0     4.0     Nueva Pompeya   \n",
       "1                   NaN                  1.0     9.0           Liniers   \n",
       "2        Siniestro Vial                  1.0    15.0         Chacarita   \n",
       "3       Hurto Automotor                  1.0    10.0          Floresta   \n",
       "4        Robo Automotor                  1.0     4.0  Parque Patricios   \n",
       "...                 ...                  ...     ...               ...   \n",
       "117656   Robo Automotor                  1.0     8.0   Villa Riachuelo   \n",
       "117657   Robo Automotor                  1.0     5.0             Boedo   \n",
       "117658   Robo Automotor                  1.0     1.0         Monserrat   \n",
       "117659   Robo Automotor                  1.0    15.0      Villa Crespo   \n",
       "117660   Robo Automotor                  1.0     8.0      Villa Lugano   \n",
       "\n",
       "              lat       long  \n",
       "0      -34.648387 -58.404748  \n",
       "1      -34.649827 -58.513859  \n",
       "2      -34.588108 -58.439392  \n",
       "3      -34.631877 -58.483975  \n",
       "4      -34.633161 -58.397123  \n",
       "...           ...        ...  \n",
       "117656 -34.692347 -58.472299  \n",
       "117657 -34.626424 -58.422846  \n",
       "117658 -34.615892 -58.370573  \n",
       "117659 -34.602577 -58.433145  \n",
       "117660 -34.674789 -58.466394  \n",
       "\n",
       "[117661 rows x 10 columns]"
      ]
     },
     "execution_count": 2,
     "metadata": {},
     "output_type": "execute_result"
    }
   ],
   "source": [
    "# Importar dataframe\n",
    "data = pd.read_csv('delitos2019.csv')\n",
    "data"
   ]
  },
  {
   "cell_type": "markdown",
   "id": "bc8aaf74-eef1-432f-b329-60e5e664df21",
   "metadata": {},
   "source": [
    "A continuación procedo a ver los tipos de datos asignados a cada columna:"
   ]
  },
  {
   "cell_type": "code",
   "execution_count": 3,
   "id": "3d3bd4b6",
   "metadata": {
    "tags": []
   },
   "outputs": [
    {
     "name": "stdout",
     "output_type": "stream",
     "text": [
      "<class 'pandas.core.frame.DataFrame'>\n",
      "RangeIndex: 117661 entries, 0 to 117660\n",
      "Data columns (total 10 columns):\n",
      " #   Column               Non-Null Count   Dtype  \n",
      "---  ------               --------------   -----  \n",
      " 0   id                   117661 non-null  int64  \n",
      " 1   fecha                117661 non-null  object \n",
      " 2   franja_horaria       117661 non-null  object \n",
      " 3   tipo_delito          117661 non-null  object \n",
      " 4   subtipo_delito       11676 non-null   object \n",
      " 5   cantidad_registrada  117661 non-null  float64\n",
      " 6   comuna               117064 non-null  float64\n",
      " 7   barrio               117064 non-null  object \n",
      " 8   lat                  117064 non-null  float64\n",
      " 9   long                 117064 non-null  float64\n",
      "dtypes: float64(4), int64(1), object(5)\n",
      "memory usage: 9.0+ MB\n"
     ]
    }
   ],
   "source": [
    "data.info()"
   ]
  },
  {
   "cell_type": "markdown",
   "id": "82e8d91e-7d45-477b-99a5-d2e66046b8d1",
   "metadata": {},
   "source": [
    "#### 2.2 Cantidad de delitos y distribución geográfica\n",
    "\n",
    "Deseo saber la cantidad total de delitos cometidos en el año, para lo cual realizo una suma acumulada de los registros presentes en la columna `cantidad_registrada`:"
   ]
  },
  {
   "cell_type": "code",
   "execution_count": 4,
   "id": "b6ea126f",
   "metadata": {
    "tags": []
   },
   "outputs": [
    {
     "data": {
      "text/plain": [
       "0              1.0\n",
       "1              2.0\n",
       "2              3.0\n",
       "3              4.0\n",
       "4              5.0\n",
       "            ...   \n",
       "117656    117664.0\n",
       "117657    117665.0\n",
       "117658    117666.0\n",
       "117659    117667.0\n",
       "117660    117668.0\n",
       "Name: cantidad_registrada, Length: 117661, dtype: float64"
      ]
     },
     "execution_count": 4,
     "metadata": {},
     "output_type": "execute_result"
    }
   ],
   "source": [
    "data['cantidad_registrada'].cumsum()"
   ]
  },
  {
   "cell_type": "markdown",
   "id": "754a037d-44e4-46a4-9e23-2d34c8ec8ede",
   "metadata": {},
   "source": [
    "Puede verse que, en total, se han registrado **117.668 delitos** en todo el año. Sería bueno conocer si existe alguna diferencia geográfica en la prevalencia de delitos, para lo cual procedo a agrupar los registros de cantidad según el barrio en que tuvieron lugar, e identificar los 5 barrios con mayor número de delitos:"
   ]
  },
  {
   "cell_type": "code",
   "execution_count": 5,
   "id": "c52ef137",
   "metadata": {
    "tags": []
   },
   "outputs": [
    {
     "data": {
      "text/html": [
       "<div>\n",
       "<style scoped>\n",
       "    .dataframe tbody tr th:only-of-type {\n",
       "        vertical-align: middle;\n",
       "    }\n",
       "\n",
       "    .dataframe tbody tr th {\n",
       "        vertical-align: top;\n",
       "    }\n",
       "\n",
       "    .dataframe thead th {\n",
       "        text-align: right;\n",
       "    }\n",
       "</style>\n",
       "<table border=\"1\" class=\"dataframe\">\n",
       "  <thead>\n",
       "    <tr style=\"text-align: right;\">\n",
       "      <th></th>\n",
       "      <th>cantidad_registrada</th>\n",
       "    </tr>\n",
       "    <tr>\n",
       "      <th>barrio</th>\n",
       "      <th></th>\n",
       "    </tr>\n",
       "  </thead>\n",
       "  <tbody>\n",
       "    <tr>\n",
       "      <th>Palermo</th>\n",
       "      <td>9559</td>\n",
       "    </tr>\n",
       "    <tr>\n",
       "      <th>Balvanera</th>\n",
       "      <td>9239</td>\n",
       "    </tr>\n",
       "    <tr>\n",
       "      <th>San Nicolás</th>\n",
       "      <td>6246</td>\n",
       "    </tr>\n",
       "    <tr>\n",
       "      <th>Recoleta</th>\n",
       "      <td>5589</td>\n",
       "    </tr>\n",
       "    <tr>\n",
       "      <th>Flores</th>\n",
       "      <td>5518</td>\n",
       "    </tr>\n",
       "  </tbody>\n",
       "</table>\n",
       "</div>"
      ],
      "text/plain": [
       "             cantidad_registrada\n",
       "barrio                          \n",
       "Palermo                     9559\n",
       "Balvanera                   9239\n",
       "San Nicolás                 6246\n",
       "Recoleta                    5589\n",
       "Flores                      5518"
      ]
     },
     "execution_count": 5,
     "metadata": {},
     "output_type": "execute_result"
    }
   ],
   "source": [
    "delitos_por_barrio = data[['barrio','cantidad_registrada']].groupby('barrio').count()\n",
    "delitos_por_barrio.sort_values('cantidad_registrada', ascending = False).nlargest(5, 'cantidad_registrada')"
   ]
  },
  {
   "cell_type": "markdown",
   "id": "83d56def-bd0f-4f8c-aa28-07eeb6d8d566",
   "metadata": {},
   "source": [
    "Ahora hago lo mismo, pero a la inversa: los 5 barrios con menos delitos."
   ]
  },
  {
   "cell_type": "code",
   "execution_count": 6,
   "id": "6de93bae",
   "metadata": {
    "tags": []
   },
   "outputs": [
    {
     "data": {
      "text/html": [
       "<div>\n",
       "<style scoped>\n",
       "    .dataframe tbody tr th:only-of-type {\n",
       "        vertical-align: middle;\n",
       "    }\n",
       "\n",
       "    .dataframe tbody tr th {\n",
       "        vertical-align: top;\n",
       "    }\n",
       "\n",
       "    .dataframe thead th {\n",
       "        text-align: right;\n",
       "    }\n",
       "</style>\n",
       "<table border=\"1\" class=\"dataframe\">\n",
       "  <thead>\n",
       "    <tr style=\"text-align: right;\">\n",
       "      <th></th>\n",
       "      <th>cantidad_registrada</th>\n",
       "    </tr>\n",
       "    <tr>\n",
       "      <th>barrio</th>\n",
       "      <th></th>\n",
       "    </tr>\n",
       "  </thead>\n",
       "  <tbody>\n",
       "    <tr>\n",
       "      <th>Puerto Madero</th>\n",
       "      <td>283</td>\n",
       "    </tr>\n",
       "    <tr>\n",
       "      <th>Villa Real</th>\n",
       "      <td>343</td>\n",
       "    </tr>\n",
       "    <tr>\n",
       "      <th>Versalles</th>\n",
       "      <td>392</td>\n",
       "    </tr>\n",
       "    <tr>\n",
       "      <th>Agronomía</th>\n",
       "      <td>454</td>\n",
       "    </tr>\n",
       "    <tr>\n",
       "      <th>Coghlan</th>\n",
       "      <td>476</td>\n",
       "    </tr>\n",
       "  </tbody>\n",
       "</table>\n",
       "</div>"
      ],
      "text/plain": [
       "               cantidad_registrada\n",
       "barrio                            \n",
       "Puerto Madero                  283\n",
       "Villa Real                     343\n",
       "Versalles                      392\n",
       "Agronomía                      454\n",
       "Coghlan                        476"
      ]
     },
     "execution_count": 6,
     "metadata": {},
     "output_type": "execute_result"
    }
   ],
   "source": [
    "delitos_por_barrio.sort_values('cantidad_registrada').nsmallest(5, 'cantidad_registrada')"
   ]
  },
  {
   "cell_type": "markdown",
   "id": "4237177f-c123-4868-b853-41fe09eca70b",
   "metadata": {},
   "source": [
    "#### 2.3 Delitos por franja horaria\n",
    "\n",
    "Habiendo establecido previamente cuáles son los barrios con mayor o menor cantidades de delitos, quisiera analizar la distribución de los mismos según la franja horaria en que tienen lugar. Para lo cual procedo a determinar cuáles son los cinco horarios con mayor número de delitos:"
   ]
  },
  {
   "cell_type": "code",
   "execution_count": 7,
   "id": "a6122493",
   "metadata": {},
   "outputs": [
    {
     "data": {
      "text/html": [
       "<div>\n",
       "<style scoped>\n",
       "    .dataframe tbody tr th:only-of-type {\n",
       "        vertical-align: middle;\n",
       "    }\n",
       "\n",
       "    .dataframe tbody tr th {\n",
       "        vertical-align: top;\n",
       "    }\n",
       "\n",
       "    .dataframe thead th {\n",
       "        text-align: right;\n",
       "    }\n",
       "</style>\n",
       "<table border=\"1\" class=\"dataframe\">\n",
       "  <thead>\n",
       "    <tr style=\"text-align: right;\">\n",
       "      <th></th>\n",
       "      <th>cantidad_registrada</th>\n",
       "    </tr>\n",
       "    <tr>\n",
       "      <th>franja_horaria</th>\n",
       "      <th></th>\n",
       "    </tr>\n",
       "  </thead>\n",
       "  <tbody>\n",
       "    <tr>\n",
       "      <th>18</th>\n",
       "      <td>7415</td>\n",
       "    </tr>\n",
       "    <tr>\n",
       "      <th>19</th>\n",
       "      <td>7224</td>\n",
       "    </tr>\n",
       "    <tr>\n",
       "      <th>20</th>\n",
       "      <td>6990</td>\n",
       "    </tr>\n",
       "    <tr>\n",
       "      <th>17</th>\n",
       "      <td>6612</td>\n",
       "    </tr>\n",
       "    <tr>\n",
       "      <th>16</th>\n",
       "      <td>6518</td>\n",
       "    </tr>\n",
       "  </tbody>\n",
       "</table>\n",
       "</div>"
      ],
      "text/plain": [
       "                cantidad_registrada\n",
       "franja_horaria                     \n",
       "18                             7415\n",
       "19                             7224\n",
       "20                             6990\n",
       "17                             6612\n",
       "16                             6518"
      ]
     },
     "execution_count": 7,
     "metadata": {},
     "output_type": "execute_result"
    }
   ],
   "source": [
    "horarios = data[['franja_horaria', 'cantidad_registrada']].groupby('franja_horaria').count()\n",
    "horarios.sort_values('cantidad_registrada', ascending = False).nlargest(5, 'cantidad_registrada')"
   ]
  },
  {
   "cell_type": "markdown",
   "id": "4c8872be-0b94-4b54-bdb9-ede574da8372",
   "metadata": {},
   "source": [
    "A continuación hago lo mismo pero determinando cuáles son los cinco horarios con menos delitos:"
   ]
  },
  {
   "cell_type": "code",
   "execution_count": 13,
   "id": "e33bd619",
   "metadata": {},
   "outputs": [
    {
     "data": {
      "text/html": [
       "<div>\n",
       "<style scoped>\n",
       "    .dataframe tbody tr th:only-of-type {\n",
       "        vertical-align: middle;\n",
       "    }\n",
       "\n",
       "    .dataframe tbody tr th {\n",
       "        vertical-align: top;\n",
       "    }\n",
       "\n",
       "    .dataframe thead th {\n",
       "        text-align: right;\n",
       "    }\n",
       "</style>\n",
       "<table border=\"1\" class=\"dataframe\">\n",
       "  <thead>\n",
       "    <tr style=\"text-align: right;\">\n",
       "      <th></th>\n",
       "      <th>cantidad_registrada</th>\n",
       "    </tr>\n",
       "    <tr>\n",
       "      <th>franja_horaria</th>\n",
       "      <th></th>\n",
       "    </tr>\n",
       "  </thead>\n",
       "  <tbody>\n",
       "    <tr>\n",
       "      <th>3</th>\n",
       "      <td>1719</td>\n",
       "    </tr>\n",
       "    <tr>\n",
       "      <th>4</th>\n",
       "      <td>1814</td>\n",
       "    </tr>\n",
       "    <tr>\n",
       "      <th>2</th>\n",
       "      <td>1965</td>\n",
       "    </tr>\n",
       "    <tr>\n",
       "      <th>5</th>\n",
       "      <td>2357</td>\n",
       "    </tr>\n",
       "    <tr>\n",
       "      <th>1</th>\n",
       "      <td>2445</td>\n",
       "    </tr>\n",
       "  </tbody>\n",
       "</table>\n",
       "</div>"
      ],
      "text/plain": [
       "                cantidad_registrada\n",
       "franja_horaria                     \n",
       "3                              1719\n",
       "4                              1814\n",
       "2                              1965\n",
       "5                              2357\n",
       "1                              2445"
      ]
     },
     "execution_count": 13,
     "metadata": {},
     "output_type": "execute_result"
    }
   ],
   "source": [
    "# Remover datos con franja horaria indefinida\n",
    "filtrado = data.loc[data['franja_horaria'] != 'S/D', ['franja_horaria','cantidad_registrada']]\n",
    "\n",
    "horarios = filtrado[['franja_horaria', 'cantidad_registrada']].groupby('franja_horaria').count()\n",
    "horarios.sort_values('cantidad_registrada').nsmallest(5, 'cantidad_registrada')"
   ]
  },
  {
   "cell_type": "markdown",
   "id": "81ac9263-75f1-40be-8932-98625e95f630",
   "metadata": {},
   "source": [
    "#### 2.4 Delitos según fecha\n",
    "\n",
    "Para ver en qué fecha del año se cometió la mayor cantidad de delitos, puede realizarse lo siguiente:"
   ]
  },
  {
   "cell_type": "code",
   "execution_count": null,
   "id": "b5e64a6a",
   "metadata": {},
   "outputs": [],
   "source": [
    "fechas = data[['fecha', 'cantidad_registrada']].groupby('fecha').count()\n",
    "fechas.sort_values('cantidad_registrada', ascending = False).nlargest(1, 'cantidad_registrada')"
   ]
  },
  {
   "cell_type": "markdown",
   "id": "ec7530dc-779a-4940-b38f-447a277e2d54",
   "metadata": {},
   "source": [
    "#### 2.5 Top 5 de barrios más peligrosos\n",
    "\n",
    "Procedo a realizar un gráfico de barras con los cinco barrios donde se cometen más delitos:"
   ]
  },
  {
   "cell_type": "code",
   "execution_count": null,
   "id": "45a513d0",
   "metadata": {
    "jupyter": {
     "source_hidden": true
    },
    "tags": []
   },
   "outputs": [],
   "source": [
    "# Reorganización de los datos\n",
    "barrios = data[['barrio', 'cantidad_registrada']].groupby('barrio').count()\n",
    "top5 = barrios.sort_values('cantidad_registrada', ascending = False).nlargest(5, 'cantidad_registrada')\n",
    "\n",
    "# Plot\n",
    "plt.bar([1,2,3,4,5], top5['cantidad_registrada'], \n",
    "        tick_label=['Palermo', 'Balvanera', 'San Nicolás', 'Recoleta', 'Flores'],\n",
    "        alpha=0.8,\n",
    "        color='r',\n",
    "        edgecolor='black')\n",
    "\n",
    "fuente = {\n",
    "          'family': 'sans-serif',\n",
    "          'color':  'black',\n",
    "          'weight': 'bold',\n",
    "          'size': 16,\n",
    "         }\n",
    "\n",
    "plt.title('Los cinco barrios más peligrosos de CABA', fontdict = fuente, pad = 30)\n",
    "plt.ylabel('Número de delitos')"
   ]
  },
  {
   "cell_type": "markdown",
   "id": "a17c4049-b012-482b-9ba7-029b14b82916",
   "metadata": {},
   "source": [
    "#### 2.6 Top 5 de barrios más seguros\n",
    "\n",
    "Similar al punto anterior, pero graficando los 5 barrios con menos delitos:"
   ]
  },
  {
   "cell_type": "code",
   "execution_count": null,
   "id": "2825a923-b6eb-4d8e-a87e-a1d7632b1e42",
   "metadata": {
    "jupyter": {
     "source_hidden": true
    },
    "tags": []
   },
   "outputs": [],
   "source": [
    "# Reorganización de los datos\n",
    "top5 = barrios.sort_values('cantidad_registrada').nsmallest(5, 'cantidad_registrada')\n",
    "\n",
    "# Plot\n",
    "plt.bar([1,2,3,4,5], top5['cantidad_registrada'], \n",
    "        tick_label=['Puerto Madero', 'Villa Real', 'Versalles', 'Agronomía', 'Coghlan'],\n",
    "        color = 'g',\n",
    "        alpha=0.8,\n",
    "        edgecolor='black')\n",
    "\n",
    "fuente = {\n",
    "          'family': 'sans-serif',\n",
    "          'color':  'black',\n",
    "          'weight': 'bold',\n",
    "          'size': 16,\n",
    "         }\n",
    "\n",
    "plt.title('Los cinco barrios más seguros de CABA', fontdict = fuente, pad = 20)\n",
    "plt.ylabel('Número de delitos')"
   ]
  },
  {
   "cell_type": "markdown",
   "id": "68bb3ace-4a74-4fce-b3c1-d898e9f2edf4",
   "metadata": {},
   "source": [
    "#### 2.7 Delitos por mes\n",
    "\n",
    "Para conocer cuál es el mes más inseguro de todos, procedo a realizar lo siguiente:"
   ]
  },
  {
   "cell_type": "code",
   "execution_count": null,
   "id": "1b3c7be5-94f1-4636-9cb0-d7a8b15fbce9",
   "metadata": {
    "jupyter": {
     "source_hidden": true
    },
    "tags": []
   },
   "outputs": [],
   "source": [
    "# Conversión de formato (objeto a datetime)\n",
    "data['fecha'] = pd.to_datetime(data['fecha'])\n",
    "\n",
    "# Crear columna \"mes\"\n",
    "data['mes'] = pd.DatetimeIndex(data['fecha']).month\n",
    "\n",
    "# Agrupar datos según mes y contar \n",
    "meses = data[['cantidad_registrada', 'mes']].groupby('mes').count()\n",
    "meses"
   ]
  },
  {
   "cell_type": "markdown",
   "id": "b9d9b30b-04be-42c9-bee1-51b175c8fd13",
   "metadata": {},
   "source": [
    "En base a los cálculos realizados se puede concluir que el mes más inseguro del 2019 fue Marzo, con **11.244 delitos** en total."
   ]
  },
  {
   "cell_type": "markdown",
   "id": "13201608-05fc-4cbb-8e1c-5c1f520bbe8f",
   "metadata": {},
   "source": [
    "#### 2.8 Delitos más frecuentes\n",
    "\n",
    "Para finalizar el informe, procedo a realizar un gráfico de torta con los tipos de delitos cometidos:"
   ]
  },
  {
   "cell_type": "code",
   "execution_count": null,
   "id": "6a13e512-55df-464f-90ce-a577aa251d14",
   "metadata": {
    "jupyter": {
     "source_hidden": true
    },
    "tags": []
   },
   "outputs": [],
   "source": [
    "# Reestructuración de los datos\n",
    "delitos = data[['tipo_delito', 'cantidad_registrada']].groupby('tipo_delito').count()\n",
    "delitos"
   ]
  },
  {
   "cell_type": "code",
   "execution_count": null,
   "id": "0e6fd607-56dd-4891-b687-610121a93628",
   "metadata": {
    "jupyter": {
     "source_hidden": true
    },
    "tags": []
   },
   "outputs": [],
   "source": [
    "# Gráfico de torta\n",
    "def func(pct):\n",
    "  return \"{:1.1f}%\".format(pct)\n",
    "\n",
    "plt.pie(delitos['cantidad_registrada'],\n",
    "        labels = ['Homicidio', 'Hurto (sin violencia)', 'Lesiones', 'Robo (con violencia)'], \n",
    "        autopct=lambda pct: func(pct),\n",
    "        shadow = True,\n",
    "        explode = [0, 0, 0, 0.2])\n",
    "\n",
    "fuente = {\n",
    "          'family': 'sans-serif',\n",
    "          'color':  'black',\n",
    "          'weight': 'bold',\n",
    "          'size': 16,\n",
    "         }\n",
    "\n",
    "plt.title('Tipos de delitos y sus frecuencias', fontdict = fuente, pad = 10)"
   ]
  },
  {
   "cell_type": "markdown",
   "id": "dab95747-9ad9-4da0-ac94-16ba5762dc62",
   "metadata": {},
   "source": [
    "## 3. Conclusiones\n",
    "\n",
    "En base a lo expuesto en el análisis, puede concluirse que:\n",
    "\n",
    "- **Los barrios más peligrosos de CABA son Palermo, Balvanera, San Nicolás, Recoleta y Flores**. Mientras que los barrios menos peligrosos son Puerto Madero, Villa Real, Versalles, Agronomía y Coghlan.\n",
    "\n",
    "- La ejecución de diferentes delitos presenta una acumulación marcada en los horarios del atardecer, **siendo la franja horaria de las 18 hs. aquella en que se comete la mayor cantidad de delitos**. Esto contrasta con el bajo número de delitos cometidos a altas horas de la noche (2 A.M. a 5 A.M.)\n",
    "\n",
    "- **El mes de Marzo fue el más peligroso del año**, ya que presenta no solamente el mayor número de delitos acumulados por mes, sino también el día con mayor cantidad de delitos de todo el 2019. También se observa una cantidad de delitos ligeramente mayor en el primer semestre.\n",
    "\n",
    "- Los delitos más cometidos corresponden a aquellos realizados sobre la propiedad privada, con o sin uso de violencia, **concentrando poco más del 95% de los casos**. En segundo lugar están las lesiones, con poco menos del 5% de los casos, y en tercer lugar están los homicidios. "
   ]
  }
 ],
 "metadata": {
  "kernelspec": {
   "display_name": "Python 3 (ipykernel)",
   "language": "python",
   "name": "python3"
  },
  "language_info": {
   "codemirror_mode": {
    "name": "ipython",
    "version": 3
   },
   "file_extension": ".py",
   "mimetype": "text/x-python",
   "name": "python",
   "nbconvert_exporter": "python",
   "pygments_lexer": "ipython3",
   "version": "3.9.7"
  }
 },
 "nbformat": 4,
 "nbformat_minor": 5
}
